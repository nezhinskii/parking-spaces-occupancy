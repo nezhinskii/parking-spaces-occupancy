{
  "nbformat": 4,
  "nbformat_minor": 0,
  "metadata": {
    "colab": {
      "provenance": []
    },
    "kernelspec": {
      "name": "python3",
      "display_name": "Python 3"
    },
    "language_info": {
      "name": "python"
    }
  },
  "cells": [
    {
      "cell_type": "code",
      "execution_count": null,
      "metadata": {
        "id": "5Cq3MtPLQb7X"
      },
      "outputs": [],
      "source": [
        "%cd /content\n",
        "!git clone https://github.com/nezhinskii/parking-spaces-occupancy.git\n",
        "!mv parking-spaces-occupancy/* . \n",
        "!rm -r parking-spaces-occupancy\n",
        "!pip install -r requirements.txt"
      ]
    },
    {
      "cell_type": "code",
      "source": [
        "from parking_occupancy import show_occupancy\n",
        "\n",
        "show_occupancy(labels_path = 'examples/single_image/parking_places.csv', image_path = 'examples/single_image/parking.jpg')"
      ],
      "metadata": {
        "id": "bigoInROX20L"
      },
      "execution_count": null,
      "outputs": []
    }
  ]
}