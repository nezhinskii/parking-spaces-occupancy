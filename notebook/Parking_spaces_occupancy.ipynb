{
  "cells": [
    {
      "cell_type": "code",
      "execution_count": null,
      "metadata": {
        "id": "5Cq3MtPLQb7X"
      },
      "outputs": [],
      "source": [
        "%cd /content\n",
        "!git clone https://github.com/nezhinskii/parking-spaces-occupancy.git\n",
        "!mv parking-spaces-occupancy/* . \n",
        "!rm -r parking-spaces-occupancy\n",
        "!pip install -r requirements.txt"
      ]
    },
    {
      "cell_type": "code",
      "execution_count": null,
      "metadata": {},
      "outputs": [],
      "source": [
        "from google.colab.patches import cv2_imshow\n",
        "from parking_occupancy import analyze_parking_spaces"
      ]
    },
    {
      "cell_type": "code",
      "execution_count": null,
      "metadata": {
        "id": "bigoInROX20L"
      },
      "outputs": [],
      "source": [
        "# single image processing example\n",
        "image = analyze_parking_spaces(labels = 'examples/single_image/parking_places.csv', source = 'examples/single_image/parking.jpg')\n",
        "cv2_imshow(image)"
      ]
    },
    {
      "cell_type": "code",
      "execution_count": null,
      "metadata": {},
      "outputs": [],
      "source": [
        "# several images processing example\n",
        "analyze_parking_spaces(labels = 'examples/several_images/parking_places.csv', source = 'examples/several_images')"
      ]
    },
    {
      "cell_type": "code",
      "execution_count": null,
      "metadata": {},
      "outputs": [],
      "source": [
        "# video processing example\n",
        "video_path = analyze_parking_spaces(labels = 'examples/video/parking_places.csv', source = 'examples/video/parking.mp4')"
      ]
    },
    {
      "cell_type": "code",
      "execution_count": null,
      "metadata": {},
      "outputs": [],
      "source": [
        "from IPython.display import HTML\n",
        "from base64 import b64encode\n",
        "import os\n",
        "\n",
        "os.system(f\"ffmpeg -i {video_path} -vcodec libx264 {video_path}\")\n",
        "def show_video(video_path, video_width = 1280):\n",
        "   \n",
        "  video_file = open(video_path, \"r+b\").read()\n",
        " \n",
        "  video_url = f\"data:video/mp4;base64,{b64encode(video_file).decode()}\"\n",
        "  return HTML(f\"\"\"<video width={video_width} controls><source src=\"{video_url}\"></video>\"\"\")\n",
        " \n",
        "show_video(video_path)"
      ]
    }
  ],
  "metadata": {
    "colab": {
      "provenance": []
    },
    "kernelspec": {
      "display_name": "Python 3",
      "language": "python",
      "name": "python3"
    },
    "language_info": {
      "name": "python",
      "version": "3.10.9"
    },
    "vscode": {
      "interpreter": {
        "hash": "3402744859fa2a6fd3cb228f5a23481977594a9b0f07e0ffee8a8d7f1d086618"
      }
    }
  },
  "nbformat": 4,
  "nbformat_minor": 0
}
